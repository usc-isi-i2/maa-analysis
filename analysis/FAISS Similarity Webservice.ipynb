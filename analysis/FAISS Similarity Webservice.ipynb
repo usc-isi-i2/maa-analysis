{
 "cells": [
  {
   "cell_type": "code",
   "execution_count": 20,
   "metadata": {},
   "outputs": [],
   "source": [
    "from requests import get,post,put,delete\n",
    "import json\n",
    "import pandas as pd"
   ]
  },
  {
   "cell_type": "code",
   "execution_count": 26,
   "metadata": {},
   "outputs": [],
   "source": [
    "url = 'http://dsbox02.isi.edu:8888/fs'\n",
    "search_url = '/similarity/faiss/nn'"
   ]
  },
  {
   "cell_type": "code",
   "execution_count": 27,
   "metadata": {},
   "outputs": [
    {
     "data": {
      "text/html": [
       "<div>\n",
       "<style scoped>\n",
       "    .dataframe tbody tr th:only-of-type {\n",
       "        vertical-align: middle;\n",
       "    }\n",
       "\n",
       "    .dataframe tbody tr th {\n",
       "        vertical-align: top;\n",
       "    }\n",
       "\n",
       "    .dataframe thead th {\n",
       "        text-align: right;\n",
       "    }\n",
       "</style>\n",
       "<table border=\"1\" class=\"dataframe\">\n",
       "  <thead>\n",
       "    <tr style=\"text-align: right;\">\n",
       "      <th></th>\n",
       "      <th>sim</th>\n",
       "      <th>qnode1</th>\n",
       "      <th>qnode1_label</th>\n",
       "      <th>qnode1_sentence</th>\n",
       "      <th>qnode2</th>\n",
       "      <th>qnode2_label</th>\n",
       "      <th>qnode2_sentence</th>\n",
       "    </tr>\n",
       "  </thead>\n",
       "  <tbody>\n",
       "    <tr>\n",
       "      <th>0</th>\n",
       "      <td>239.871521</td>\n",
       "      <td>Q48989064</td>\n",
       "      <td>Instant Pot</td>\n",
       "      <td>Instant Pot, brand of kitchen appliances is ho...</td>\n",
       "      <td>Q4306963</td>\n",
       "      <td>multicooker</td>\n",
       "      <td>multicooker, automated cooking appliance is Mu...</td>\n",
       "    </tr>\n",
       "    <tr>\n",
       "      <th>1</th>\n",
       "      <td>311.557312</td>\n",
       "      <td>Q48989064</td>\n",
       "      <td>Instant Pot</td>\n",
       "      <td>Instant Pot, brand of kitchen appliances is ho...</td>\n",
       "      <td>Q127956</td>\n",
       "      <td>microwave oven</td>\n",
       "      <td>microwave oven, kitchen cooking appliance is M...</td>\n",
       "    </tr>\n",
       "    <tr>\n",
       "      <th>2</th>\n",
       "      <td>314.934662</td>\n",
       "      <td>Q48989064</td>\n",
       "      <td>Instant Pot</td>\n",
       "      <td>Instant Pot, brand of kitchen appliances is ho...</td>\n",
       "      <td>Q154038</td>\n",
       "      <td>cookware and bakeware</td>\n",
       "      <td>cookware and bakeware, types of food preparati...</td>\n",
       "    </tr>\n",
       "    <tr>\n",
       "      <th>3</th>\n",
       "      <td>365.103394</td>\n",
       "      <td>Q48989064</td>\n",
       "      <td>Instant Pot</td>\n",
       "      <td>Instant Pot, brand of kitchen appliances is ho...</td>\n",
       "      <td>Q271997</td>\n",
       "      <td>pressure cooker</td>\n",
       "      <td>pressure cooker, cooking vessel is Pressure co...</td>\n",
       "    </tr>\n",
       "  </tbody>\n",
       "</table>\n",
       "</div>"
      ],
      "text/plain": [
       "          sim     qnode1 qnode1_label  \\\n",
       "0  239.871521  Q48989064  Instant Pot   \n",
       "1  311.557312  Q48989064  Instant Pot   \n",
       "2  314.934662  Q48989064  Instant Pot   \n",
       "3  365.103394  Q48989064  Instant Pot   \n",
       "\n",
       "                                     qnode1_sentence    qnode2  \\\n",
       "0  Instant Pot, brand of kitchen appliances is ho...  Q4306963   \n",
       "1  Instant Pot, brand of kitchen appliances is ho...   Q127956   \n",
       "2  Instant Pot, brand of kitchen appliances is ho...   Q154038   \n",
       "3  Instant Pot, brand of kitchen appliances is ho...   Q271997   \n",
       "\n",
       "            qnode2_label                                    qnode2_sentence  \n",
       "0            multicooker  multicooker, automated cooking appliance is Mu...  \n",
       "1         microwave oven  microwave oven, kitchen cooking appliance is M...  \n",
       "2  cookware and bakeware  cookware and bakeware, types of food preparati...  \n",
       "3        pressure cooker  pressure cooker, cooking vessel is Pressure co...  "
      ]
     },
     "execution_count": 27,
     "metadata": {},
     "output_type": "execute_result"
    }
   ],
   "source": [
    "qnode = 'Q48989064'\n",
    "r = get(f'{url}/{search_url}/{qnode}')\n",
    "df = pd.DataFrame(r.json())\n",
    "df"
   ]
  },
  {
   "cell_type": "code",
   "execution_count": null,
   "metadata": {},
   "outputs": [],
   "source": []
  }
 ],
 "metadata": {
  "kernelspec": {
   "display_name": "maa_env",
   "language": "python",
   "name": "maa_env"
  },
  "language_info": {
   "codemirror_mode": {
    "name": "ipython",
    "version": 3
   },
   "file_extension": ".py",
   "mimetype": "text/x-python",
   "name": "python",
   "nbconvert_exporter": "python",
   "pygments_lexer": "ipython3",
   "version": "3.6.6"
  }
 },
 "nbformat": 4,
 "nbformat_minor": 4
}
