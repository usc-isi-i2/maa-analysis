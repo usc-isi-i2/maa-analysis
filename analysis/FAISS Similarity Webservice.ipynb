{
 "cells": [
  {
   "cell_type": "code",
   "execution_count": 13,
   "metadata": {},
   "outputs": [],
   "source": [
    "from requests import get,post,put,delete\n",
    "import json\n",
    "import pandas as pd"
   ]
  },
  {
   "cell_type": "code",
   "execution_count": 14,
   "metadata": {},
   "outputs": [],
   "source": [
    "url = 'http://localhost:6733'\n",
    "search_url = '/similarity/faiss/nn'"
   ]
  },
  {
   "cell_type": "code",
   "execution_count": 15,
   "metadata": {},
   "outputs": [
    {
     "name": "stdout",
     "output_type": "stream",
     "text": [
      "hello from Qnode Similarity\n"
     ]
    }
   ],
   "source": [
    "r = get(f'{url}')\n",
    "print(r.text)"
   ]
  },
  {
   "cell_type": "code",
   "execution_count": 19,
   "metadata": {},
   "outputs": [
    {
     "data": {
      "text/html": [
       "<div>\n",
       "<style scoped>\n",
       "    .dataframe tbody tr th:only-of-type {\n",
       "        vertical-align: middle;\n",
       "    }\n",
       "\n",
       "    .dataframe tbody tr th {\n",
       "        vertical-align: top;\n",
       "    }\n",
       "\n",
       "    .dataframe thead th {\n",
       "        text-align: right;\n",
       "    }\n",
       "</style>\n",
       "<table border=\"1\" class=\"dataframe\">\n",
       "  <thead>\n",
       "    <tr style=\"text-align: right;\">\n",
       "      <th></th>\n",
       "      <th>sim</th>\n",
       "      <th>qnode1</th>\n",
       "      <th>qnode1_label</th>\n",
       "      <th>qnode1_sentence</th>\n",
       "      <th>qnode2</th>\n",
       "      <th>qnode2_label</th>\n",
       "      <th>qnode2_sentence</th>\n",
       "    </tr>\n",
       "  </thead>\n",
       "  <tbody>\n",
       "    <tr>\n",
       "      <th>0</th>\n",
       "      <td>594.883911</td>\n",
       "      <td>Q999895</td>\n",
       "      <td>Cytoplasmic male sterility</td>\n",
       "      <td>Cytoplasmic male sterility, \"\".\\n</td>\n",
       "      <td>Q979962</td>\n",
       "      <td>primitive cell</td>\n",
       "      <td>primitive cell, minimum volume cell (a unit ce...</td>\n",
       "    </tr>\n",
       "    <tr>\n",
       "      <th>1</th>\n",
       "      <td>596.418335</td>\n",
       "      <td>Q999895</td>\n",
       "      <td>Cytoplasmic male sterility</td>\n",
       "      <td>Cytoplasmic male sterility, \"\".\\n</td>\n",
       "      <td>Q997862</td>\n",
       "      <td>papule</td>\n",
       "      <td>papule, circumscribed, solid elevation of skin...</td>\n",
       "    </tr>\n",
       "    <tr>\n",
       "      <th>2</th>\n",
       "      <td>639.423706</td>\n",
       "      <td>Q999895</td>\n",
       "      <td>Cytoplasmic male sterility</td>\n",
       "      <td>Cytoplasmic male sterility, \"\".\\n</td>\n",
       "      <td>Q998803</td>\n",
       "      <td>tumor lysis syndrome</td>\n",
       "      <td>tumor lysis syndrome, \"\" is syndrome.\\n</td>\n",
       "    </tr>\n",
       "    <tr>\n",
       "      <th>3</th>\n",
       "      <td>701.654846</td>\n",
       "      <td>Q999895</td>\n",
       "      <td>Cytoplasmic male sterility</td>\n",
       "      <td>Cytoplasmic male sterility, \"\".\\n</td>\n",
       "      <td>Q983078</td>\n",
       "      <td>Bald Head</td>\n",
       "      <td>Bald Head, headland is headland.\\n</td>\n",
       "    </tr>\n",
       "  </tbody>\n",
       "</table>\n",
       "</div>"
      ],
      "text/plain": [
       "          sim   qnode1                qnode1_label  \\\n",
       "0  594.883911  Q999895  Cytoplasmic male sterility   \n",
       "1  596.418335  Q999895  Cytoplasmic male sterility   \n",
       "2  639.423706  Q999895  Cytoplasmic male sterility   \n",
       "3  701.654846  Q999895  Cytoplasmic male sterility   \n",
       "\n",
       "                     qnode1_sentence   qnode2          qnode2_label  \\\n",
       "0  Cytoplasmic male sterility, \"\".\\n  Q979962        primitive cell   \n",
       "1  Cytoplasmic male sterility, \"\".\\n  Q997862                papule   \n",
       "2  Cytoplasmic male sterility, \"\".\\n  Q998803  tumor lysis syndrome   \n",
       "3  Cytoplasmic male sterility, \"\".\\n  Q983078             Bald Head   \n",
       "\n",
       "                                     qnode2_sentence  \n",
       "0  primitive cell, minimum volume cell (a unit ce...  \n",
       "1  papule, circumscribed, solid elevation of skin...  \n",
       "2            tumor lysis syndrome, \"\" is syndrome.\\n  \n",
       "3                 Bald Head, headland is headland.\\n  "
      ]
     },
     "execution_count": 19,
     "metadata": {},
     "output_type": "execute_result"
    }
   ],
   "source": [
    "# qnode = 'Q48989064'\n",
    "qnode = 'Q999895'\n",
    "r = get(f'{url}/{search_url}/{qnode}')\n",
    "\n",
    "df = pd.DataFrame(r.json())\n",
    "df"
   ]
  },
  {
   "cell_type": "code",
   "execution_count": null,
   "metadata": {},
   "outputs": [],
   "source": []
  }
 ],
 "metadata": {
  "kernelspec": {
   "display_name": "maa_env",
   "language": "python",
   "name": "maa_env"
  },
  "language_info": {
   "codemirror_mode": {
    "name": "ipython",
    "version": 3
   },
   "file_extension": ".py",
   "mimetype": "text/x-python",
   "name": "python",
   "nbconvert_exporter": "python",
   "pygments_lexer": "ipython3",
   "version": "3.6.6"
  }
 },
 "nbformat": 4,
 "nbformat_minor": 4
}
