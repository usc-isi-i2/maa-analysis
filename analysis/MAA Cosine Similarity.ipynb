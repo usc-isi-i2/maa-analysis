{
 "cells": [
  {
   "cell_type": "code",
   "execution_count": 4,
   "metadata": {},
   "outputs": [],
   "source": [
    "from cosine_similarity import CosineSimilarity\n",
    "import json"
   ]
  },
  {
   "cell_type": "code",
   "execution_count": 2,
   "metadata": {},
   "outputs": [],
   "source": [
    "v_path = '/Users/amandeep/Github/maa-analysis/MAA_Datasets/v3.2.0'"
   ]
  },
  {
   "cell_type": "code",
   "execution_count": 3,
   "metadata": {},
   "outputs": [],
   "source": [
    "cs = CosineSimilarity(f'{v_path}/text_embeddings_all.tsv', f'{v_path}/qnodes-properties-labels-for-V3.2.0_KB.tsv')"
   ]
  },
  {
   "cell_type": "code",
   "execution_count": 5,
   "metadata": {},
   "outputs": [
    {
     "data": {
      "text/plain": [
       "{'sim': 0.7299218088916629,\n",
       " 'qnode1_label': 'universe',\n",
       " 'qnode1_sentence': 'universe, totality consisting of space, time, matter and energy is \"universes\", Universe, and has \"UNESCO Thesaurus ID\" and \"French Vikidia ID\" and \"different from\" and \"YSO ID\" and \"National Diet Library ID\" and \"has part\" and \"has quality\" and \"Spanish Vikidia ID\" and \"TED topic ID\" and \"opposite of\" and \"described by source\" and \"image\" and \"National Library of Israel ID\" and \"Basque Vikidia ID\" and \"KBpedia ID\" and \"BBC Things ID\" and \"Australian Educational Vocabulary ID\" and \"Brockhaus Enzyklop\\\\u00e4die online ID\" and \"on focus list of Wikimedia project\" and \"OmegaWiki Defined Meaning\" and \"BabelNet ID\" and \"pronunciation audio\" and \"Open Library subject ID\" and \"Great Russian Encyclopedia Online ID\" and \"TDV \\\\u0130slam Ansiklopedisi ID\" and \"Store norske leksikon ID\" and \"LEM ID\" and \"BNCF Thesaurus ID\" and \"significant event\" and \"Dewey Decimal Classification\" and \"Fandom article ID\" and \"diameter\" and \"Quora topic ID\" and \"The Encyclopedia of Science Fiction ID\" and wikipedia_sitelink and \"Microsoft Academic ID\" and \"history of topic\" and \"British Museum person or institution ID\" and \"NicoNicoPedia ID\" and \"NE.se ID\" and \"NKCR AUT ID\" and \"has parts of the class\" and \"Klexikon article ID\" and \"Freebase ID\" and \"GND ID\" and \"studied by\" and \"Iconclass notation\" and \"PSH ID\" and \"Treccani ID\" and \"Encyclop\\\\u00e6dia Universalis ID\" and \"topic\\\\\\\\s main category\" and \"Gran Enciclop\\\\u00e8dia Catalana ID\" and \"Encyclop\\\\u00e6dia Britannica Online ID\" and \"has cause\" and \"start time\" and \"Encyclopedia of Modern Ukraine ID\" and \"shape\" and \"topic\\\\\\\\s main template\" and \"Cultureel Woordenboek ID\" and \"icon\".',\n",
       " 'qnode2_label': 'Boston',\n",
       " 'qnode2_sentence': 'Boston, city in and state capital of Massachusetts, United States is \"big city\", \"city of the United States\", \"state or insular area capital in the United States\", Boston, and has \"Library of Congress authority ID\" and \"National Diet Library ID\" and \"nickname\" and \"owner of\" and \"local dialing code\" and \"VIAF ID\" and \"KBpedia ID\" and \"inception\" and \"Brockhaus Enzyklop\\\\u00e4die online ID\" and \"English Vikidia ID\" and \"Twitter username\" and \"Great Russian Encyclopedia Online ID\" and \"category of people buried here\" and \"Facebook Places ID\" and \"Comic Vine ID\" and \"located in the administrative territorial entity\" and \"GND ID\" and \"coat of arms image\" and \"Encyclop\\\\u00e6dia Universalis ID\" and \"elevation above sea level\" and \"head of government\" and \"located on terrain feature\" and \"Open Data portal\" and \"UN/LOCODE\" and \"category for people who died here\" and \"named after\" and \"French Vikidia ID\" and \"Treccani\\\\\\\\s Dizionario di Storia ID\" and \"YSO ID\" and \"different from\" and \"official website\" and \"image\" and \"Getty Thesaurus of Geographic Names ID\" and \"Basque Vikidia ID\" and \"FIPS 55-3 (locations in the US)\" and \"OpenStreetMap relation ID\" and \"category for films shot at this location\" and \"Wikimedia outline\" and \"flag image\" and \"BabelNet ID\" and \"FAST ID\" and \"Dewey Decimal Classification\" and \"twinned administrative body\" and \"seal image\" and \"country\" and \"locator map image\" and \"NKCR AUT ID\" and \"area\" and \"population\" and \"located in or next to body of water\" and \"demonym\" and \"postal code\" and \"has part\" and \"Fandom wiki ID\" and \"Spanish Vikidia ID\" and \"GeoNames ID\" and \"lowest point\" and \"described by source\" and \"official name\" and \"Grove Art Online ID\" and \"U.S. National Archives Identifier\" and \"WorldCat Identities ID\" and \"archINFORM location ID\" and \"Quora topic ID\" and \"EMLO location ID\" and \"topic\\\\\\\\s main Wikimedia portal\" and wikipedia_sitelink and \"history of topic\" and \"category for people born here\" and \"founded by\" and \"Gran Enciclop\\\\u00e8dia Catalana ID\" and \"Encyclop\\\\u00e6dia Britannica Online ID\" and \"Biblioth\\\\u00e8que nationale de France ID\" and \"highest point\" and \"shares border with\" and \"located in time zone\" and \"MusicBrainz area ID\" and \"OmegaWiki Defined Meaning\" and \"Who\\\\\\\\s on First ID\" and \"DMOZ ID\" and \"part of\" and \"capital of\" and \"MeSH descriptor ID\" and \"coordinate location\" and \"significant event\" and \"Fandom article ID\" and \"continent\" and \"category of associated people\" and \"collage image\" and \"Ballotpedia ID\" and \"Freebase ID\" and \"GNIS ID\" and \"topic\\\\\\\\s main category\" and \"legislative body\" and \"page banner\" and \"flag\" and \"Commons gallery\" and \"category for maps\" and \"Uppsala University Alvin ID\" and \"native label\" and \"office held by head of government\".'}"
      ]
     },
     "execution_count": 5,
     "metadata": {},
     "output_type": "execute_result"
    }
   ],
   "source": [
    "cs.compute_similarity('Q1', 'Q100')"
   ]
  },
  {
   "cell_type": "code",
   "execution_count": null,
   "metadata": {},
   "outputs": [],
   "source": []
  }
 ],
 "metadata": {
  "kernelspec": {
   "display_name": "kgtk_env",
   "language": "python",
   "name": "kgtk_env"
  },
  "language_info": {
   "codemirror_mode": {
    "name": "ipython",
    "version": 3
   },
   "file_extension": ".py",
   "mimetype": "text/x-python",
   "name": "python",
   "nbconvert_exporter": "python",
   "pygments_lexer": "ipython3",
   "version": "3.6.6"
  }
 },
 "nbformat": 4,
 "nbformat_minor": 4
}
