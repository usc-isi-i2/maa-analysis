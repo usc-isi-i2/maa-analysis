{
 "cells": [
  {
   "cell_type": "code",
   "execution_count": 1,
   "metadata": {},
   "outputs": [],
   "source": [
    "from cosine_similarity import CosineSimilarity\n",
    "import json\n",
    "import pandas as pd\n",
    "from IPython.display import display, HTML"
   ]
  },
  {
   "cell_type": "code",
   "execution_count": 2,
   "metadata": {},
   "outputs": [],
   "source": [
    "v_path = '/Users/amandeep/Github/maa-analysis/MAA_Datasets/v3.2.0'"
   ]
  },
  {
   "cell_type": "code",
   "execution_count": 3,
   "metadata": {},
   "outputs": [],
   "source": [
    "cs = CosineSimilarity(f'{v_path}/text_embeddings_all.tsv', f'{v_path}/qnodes-properties-labels-for-V3.2.0_KB.tsv')"
   ]
  },
  {
   "cell_type": "code",
   "execution_count": 4,
   "metadata": {},
   "outputs": [
    {
     "data": {
      "text/html": [
       "<table border=\"1\" class=\"dataframe\">\n",
       "  <thead>\n",
       "    <tr style=\"text-align: right;\">\n",
       "      <th></th>\n",
       "      <th>sim</th>\n",
       "      <th>qnode1_label</th>\n",
       "      <th>qnode1_sentence</th>\n",
       "      <th>qnode2_label</th>\n",
       "      <th>qnode2_sentence</th>\n",
       "    </tr>\n",
       "  </thead>\n",
       "  <tbody>\n",
       "    <tr>\n",
       "      <th>0</th>\n",
       "      <td>0.572125</td>\n",
       "      <td>refrigerator</td>\n",
       "      <td>refrigerator, household or industrial appliance for preserving food at a low temperature is Domestic refrigerators, major appliance.</td>\n",
       "      <td>pressure cooker</td>\n",
       "      <td>pressure cooker, cooking vessel is Pressure cookers, cooking pot, multicooker, pressure vessel, stock pot.</td>\n",
       "    </tr>\n",
       "    <tr>\n",
       "      <th>1</th>\n",
       "      <td>0.829133</td>\n",
       "      <td>Instant Pot</td>\n",
       "      <td>Instant Pot, brand of kitchen appliances is home appliance, multicooker, pressure cooker, slow cooker.</td>\n",
       "      <td>microwave oven</td>\n",
       "      <td>microwave oven, kitchen cooking appliance is Microwave ovens, cooking appliance, electrical apparatus, electrical apparatus, electrical appliance, home appliance.</td>\n",
       "    </tr>\n",
       "    <tr>\n",
       "      <th>2</th>\n",
       "      <td>0.555974</td>\n",
       "      <td>pressure cooker</td>\n",
       "      <td>pressure cooker, cooking vessel is Pressure cookers, cooking pot, multicooker, pressure vessel, stock pot.</td>\n",
       "      <td>citric acid</td>\n",
       "      <td>citric acid, chemical compound is Citric acid, Q27492876, acidity regulator, chemical compound, food ingredient, tricarboxylic acid.</td>\n",
       "    </tr>\n",
       "    <tr>\n",
       "      <th>3</th>\n",
       "      <td>0.798495</td>\n",
       "      <td>Instant Pot</td>\n",
       "      <td>Instant Pot, brand of kitchen appliances is home appliance, multicooker, pressure cooker, slow cooker.</td>\n",
       "      <td>pressure cooker</td>\n",
       "      <td>pressure cooker, cooking vessel is Pressure cookers, cooking pot, multicooker, pressure vessel, stock pot.</td>\n",
       "    </tr>\n",
       "  </tbody>\n",
       "</table>"
      ],
      "text/plain": [
       "<IPython.core.display.HTML object>"
      ]
     },
     "metadata": {},
     "output_type": "display_data"
    }
   ],
   "source": [
    "r = []\n",
    "r.append(cs.compute_similarity('Q37828', 'Q271997'))\n",
    "r.append(cs.compute_similarity('Q48989064', 'Q127956'))\n",
    "r.append(cs.compute_similarity('Q271997', 'Q159683'))\n",
    "r.append(cs.compute_similarity('Q48989064', 'Q271997'))\n",
    "df = pd.DataFrame(r)\n",
    "display(HTML(df.to_html()))"
   ]
  },
  {
   "cell_type": "code",
   "execution_count": null,
   "metadata": {},
   "outputs": [],
   "source": []
  }
 ],
 "metadata": {
  "kernelspec": {
   "display_name": "kgtk_env",
   "language": "python",
   "name": "kgtk_env"
  },
  "language_info": {
   "codemirror_mode": {
    "name": "ipython",
    "version": 3
   },
   "file_extension": ".py",
   "mimetype": "text/x-python",
   "name": "python",
   "nbconvert_exporter": "python",
   "pygments_lexer": "ipython3",
   "version": "3.6.6"
  }
 },
 "nbformat": 4,
 "nbformat_minor": 4
}
