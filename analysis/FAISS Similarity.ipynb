{
 "cells": [
  {
   "cell_type": "code",
   "execution_count": 1,
   "metadata": {},
   "outputs": [],
   "source": [
    "from faiss_similarity import FAISSIndex\n",
    "import pandas as pd\n",
    "from IPython.display import display, HTML"
   ]
  },
  {
   "cell_type": "code",
   "execution_count": 2,
   "metadata": {},
   "outputs": [],
   "source": [
    "large_all = '/Users/amandeep/Github/maa-analysis/MAA_Datasets/v3.2.0/embedding_files/text_embeddings_all_large.tsv.gz'\n",
    "# large_labels = '/Users/amandeep/Github/maa-analysis/MAA_Datasets/v3.2.0/embedding_files/text_embeddings_all_large_labels_only.tsv.gz'\n",
    "# large_description = '/Users/amandeep/Github/maa-analysis/MAA_Datasets/v3.2.0/embedding_files/text_embeddings_all_large_description_only.tsv.gz'\n",
    "# base_all = '/Users/amandeep/Github/maa-analysis/MAA_Datasets/v3.2.0/embedding_files/text_embeddings_all_base.tsv.gz'\n",
    "# base_labels = '/Users/amandeep/Github/maa-analysis/MAA_Datasets/v3.2.0/embedding_files/text_embeddings_all_base_labels_only.tsv.gz'\n",
    "# base_description = '/Users/amandeep/Github/maa-analysis/MAA_Datasets/v3.2.0/embedding_files/text_embeddings_all_base_description_only.tsv.gz'\n",
    "large_2000 = '/Users/amandeep/Github/maa-analysis/MAA_Datasets/v3.2.0/embedding_files/2000.tsv'\n",
    "wiki_labels = '/Users/amandeep/Github/maa-analysis/MAA_Datasets/v3.2.0/qnodes-properties-labels-for-V3.2.0_KB.tsv'"
   ]
  },
  {
   "cell_type": "code",
   "execution_count": 3,
   "metadata": {},
   "outputs": [],
   "source": [
    "fi = FAISSIndex(large_all, wiki_labels)\n",
    "fi.build_index()"
   ]
  },
  {
   "cell_type": "code",
   "execution_count": null,
   "metadata": {},
   "outputs": [],
   "source": [
    "queries = ['Q37828', 'Q48989064', 'Q271997', 'Q48989064', 'Q159683', 'Q127956', 'Q60']\n",
    "df_list = []\n",
    "for q in queries:\n",
    "    df_list.append(pd.DataFrame(fi.nearest_neighbors(q)))\n",
    "df = pd.concat(df_list)\n",
    "display(HTML(df.to_html()))"
   ]
  },
  {
   "cell_type": "code",
   "execution_count": 4,
   "metadata": {},
   "outputs": [],
   "source": [
    "df_queries = pd.read_csv(large_all, sep='\\t')\n",
    "query_qnodes = list(df_queries['node'].unique())"
   ]
  },
  {
   "cell_type": "code",
   "execution_count": 5,
   "metadata": {},
   "outputs": [
    {
     "data": {
      "text/plain": [
       "245128"
      ]
     },
     "execution_count": 5,
     "metadata": {},
     "output_type": "execute_result"
    }
   ],
   "source": [
    "len(query_qnodes)"
   ]
  },
  {
   "cell_type": "code",
   "execution_count": 7,
   "metadata": {},
   "outputs": [],
   "source": [
    "df_list = []\n",
    "r = fi.nearest_neighbors_batch(query_qnodes, k=26)\n",
    "df = pd.DataFrame(r)\n",
    "df.to_csv('/Users/amandeep/Github/maa-analysis/MAA_Datasets/v3.2.0/embedding_files/25_nn_all.tsv', sep='\\t', index=None)\n",
    "# display(HTML(df.to_html()))"
   ]
  },
  {
   "cell_type": "code",
   "execution_count": null,
   "metadata": {},
   "outputs": [],
   "source": [
    "fi = FAISSIndex(large_labels, wiki_labels)\n",
    "fi.build_index()"
   ]
  },
  {
   "cell_type": "code",
   "execution_count": null,
   "metadata": {},
   "outputs": [],
   "source": [
    "queries = ['Q37828', 'Q48989064', 'Q271997', 'Q48989064', 'Q159683', 'Q127956', 'Q60']\n",
    "df_list = []\n",
    "for q in queries:\n",
    "    df_list.append(fi.nearest_neighbors(q))\n",
    "df = pd.concat(df_list)\n",
    "display(HTML(df.to_html()))"
   ]
  },
  {
   "cell_type": "code",
   "execution_count": null,
   "metadata": {},
   "outputs": [],
   "source": [
    "fi = FAISSIndex(large_description, wiki_labels)\n",
    "fi.build_index()"
   ]
  },
  {
   "cell_type": "code",
   "execution_count": null,
   "metadata": {},
   "outputs": [],
   "source": [
    "queries = ['Q37828', 'Q48989064', 'Q271997', 'Q48989064', 'Q159683', 'Q127956', 'Q60']\n",
    "df_list = []\n",
    "for q in queries:\n",
    "    df_list.append(fi.nearest_neighbors(q))\n",
    "df = pd.concat(df_list)\n",
    "display(HTML(df.to_html()))"
   ]
  },
  {
   "cell_type": "code",
   "execution_count": null,
   "metadata": {},
   "outputs": [],
   "source": [
    "fi = FAISSIndex(base_all, wiki_labels)\n",
    "fi.build_index()"
   ]
  },
  {
   "cell_type": "code",
   "execution_count": null,
   "metadata": {},
   "outputs": [],
   "source": [
    "queries = ['Q37828', 'Q48989064', 'Q271997', 'Q48989064', 'Q159683', 'Q127956', 'Q60']\n",
    "df_list = []\n",
    "for q in queries:\n",
    "    df_list.append(fi.nearest_neighbors(q))\n",
    "df = pd.concat(df_list)\n",
    "display(HTML(df.to_html()))"
   ]
  },
  {
   "cell_type": "code",
   "execution_count": null,
   "metadata": {},
   "outputs": [],
   "source": [
    "fi = FAISSIndex(base_labels, wiki_labels)\n",
    "fi.build_index()"
   ]
  },
  {
   "cell_type": "code",
   "execution_count": null,
   "metadata": {},
   "outputs": [],
   "source": [
    "queries = ['Q37828', 'Q48989064', 'Q271997', 'Q48989064', 'Q159683', 'Q127956', 'Q60']\n",
    "df_list = []\n",
    "for q in queries:\n",
    "    df_list.append(fi.nearest_neighbors(q))\n",
    "df = pd.concat(df_list)\n",
    "display(HTML(df.to_html()))"
   ]
  },
  {
   "cell_type": "code",
   "execution_count": null,
   "metadata": {},
   "outputs": [],
   "source": [
    "fi = FAISSIndex(base_description, wiki_labels)\n",
    "fi.build_index()"
   ]
  },
  {
   "cell_type": "code",
   "execution_count": null,
   "metadata": {},
   "outputs": [],
   "source": [
    "queries = ['Q37828', 'Q48989064', 'Q271997', 'Q48989064', 'Q159683', 'Q127956', 'Q60']\n",
    "df_list = []\n",
    "for q in queries:\n",
    "    df_list.append(fi.nearest_neighbors(q))\n",
    "df = pd.concat(df_list)\n",
    "display(HTML(df.to_html()))"
   ]
  },
  {
   "cell_type": "code",
   "execution_count": null,
   "metadata": {},
   "outputs": [],
   "source": []
  }
 ],
 "metadata": {
  "kernelspec": {
   "display_name": "maa_env",
   "language": "python",
   "name": "maa_env"
  },
  "language_info": {
   "codemirror_mode": {
    "name": "ipython",
    "version": 3
   },
   "file_extension": ".py",
   "mimetype": "text/x-python",
   "name": "python",
   "nbconvert_exporter": "python",
   "pygments_lexer": "ipython3",
   "version": "3.6.6"
  }
 },
 "nbformat": 4,
 "nbformat_minor": 4
}
